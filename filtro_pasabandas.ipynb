{
 "metadata": {
  "name": "",
  "signature": "sha256:979a2f47398cfcfdef41f2474104f186c1c79c5726d234f314d1cfa50cafc24f"
 },
 "nbformat": 3,
 "nbformat_minor": 0,
 "worksheets": [
  {
   "cells": [
    {
     "cell_type": "code",
     "collapsed": false,
     "input": [
      "#Importando librer\u00edas\n",
      "%pylab inline\n",
      "from scipy.fftpack import fft, fftfreq\n",
      "from scikits.audiolab import wavread, Sndfile, Format\n",
      "\n"
     ],
     "language": "python",
     "metadata": {},
     "outputs": [
      {
       "output_type": "stream",
       "stream": "stdout",
       "text": [
        "Populating the interactive namespace from numpy and matplotlib\n"
       ]
      },
      {
       "output_type": "stream",
       "stream": "stderr",
       "text": [
        "WARNING: pylab import has clobbered these variables: ['fft']\n",
        "`%matplotlib` prevents importing * from pylab and numpy\n"
       ]
      }
     ],
     "prompt_number": 48
    },
    {
     "cell_type": "code",
     "collapsed": false,
     "input": [
      "#Leyendo archivo WAV\n",
      "f = wavread('test.wav')\n",
      "data = f[0]\n",
      "dt = 1\n",
      "print f\n",
      "print data"
     ],
     "language": "python",
     "metadata": {},
     "outputs": [
      {
       "output_type": "stream",
       "stream": "stdout",
       "text": [
        "(array([ 0.0078125,  0.0078125,  0.0078125, ...,  0.0078125,  0.0078125,\n",
        "        0.0078125]), 11025, 'pcmu8')\n",
        "[ 0.0078125  0.0078125  0.0078125 ...,  0.0078125  0.0078125  0.0078125]\n"
       ]
      }
     ],
     "prompt_number": 55
    },
    {
     "cell_type": "code",
     "collapsed": false,
     "input": [
      "#Realizando transformada de Fourier\n",
      "fft_x = fft(data) / n # FFT normalizado\n",
      "freq = fftfreq(n, dt) # Recuperamos las frecuencias\n",
      "plot(freq)"
     ],
     "language": "python",
     "metadata": {},
     "outputs": [
      {
       "metadata": {},
       "output_type": "pyout",
       "prompt_number": 50,
       "text": [
        "[<matplotlib.lines.Line2D at 0x411f750>]"
       ]
      },
      {
       "metadata": {},
       "output_type": "display_data",
       "png": "[encoded data removed]",
       "text": [
        "<matplotlib.figure.Figure at 0x393b5d0>"
       ]
      }
     ],
     "prompt_number": 50
    },
    {
     "cell_type": "code",
     "collapsed": false,
     "input": [
      "#Filtrando se\u00f1al\n",
      "freq_low = 440.0\n",
      "freq_high = 880.0\n",
      "fft_x[np.abs(freq) > freq_high] = 0\n",
      "fft_x[np.abs(freq) < freq_low] = 0"
     ],
     "language": "python",
     "metadata": {},
     "outputs": [],
     "prompt_number": 51
    },
    {
     "cell_type": "code",
     "collapsed": false,
     "input": [
      "#Realizando ransformada inversa\n",
      "clean_f = ifft(fft_x) \n",
      "clean_f = real(clean_f)"
     ],
     "language": "python",
     "metadata": {},
     "outputs": [],
     "prompt_number": 52
    },
    {
     "cell_type": "code",
     "collapsed": false,
     "input": [
      "#Recreando archivo de sonido\n",
      "formato = Format('wav')\n",
      "f = Sndfile('outtest.wav', 'w', formato, 1, 48000 )\n",
      "f.write_frames(clean_f)\n",
      "f.close()"
     ],
     "language": "python",
     "metadata": {},
     "outputs": [],
     "prompt_number": 57
    },
    {
     "cell_type": "code",
     "collapsed": false,
     "input": [],
     "language": "python",
     "metadata": {},
     "outputs": []
    }
   ],
   "metadata": {}
  }
 ]
}